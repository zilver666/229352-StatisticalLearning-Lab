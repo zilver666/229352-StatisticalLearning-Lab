{
  "cells": [
    {
      "cell_type": "markdown",
      "metadata": {
        "id": "view-in-github",
        "colab_type": "text"
      },
      "source": [
        "<a href=\"https://colab.research.google.com/github/zilver666/229352-StatisticalLearning-Lab/blob/main/229351_LAB02.ipynb\" target=\"_parent\"><img src=\"https://colab.research.google.com/assets/colab-badge.svg\" alt=\"Open In Colab\"/></a>"
      ]
    },
    {
      "cell_type": "markdown",
      "metadata": {
        "id": "rUWDxJYaXbGS"
      },
      "source": [
        "ปฏิบัติการครั้งที่ 2 กระบวนวิชา 229351 Statistical Learning for Data Science\n",
        "\n",
        "คำชี้แจง\n",
        "\n",
        "1. ทำ exercise\n",
        "2. save ใน [github](https://www.github.com)\n",
        "3. ส่ง github link ใน Mango"
      ]
    },
    {
      "cell_type": "markdown",
      "source": [
        "[Numpy User Guide](https://numpy.org/doc/stable/user/index.html)"
      ],
      "metadata": {
        "id": "tdhSFe-m6LMX"
      }
    },
    {
      "cell_type": "markdown",
      "source": [
        "Note:\n",
        "1. Press `Shift` + `Enter` to run code block\n",
        "2. Highlight code and press `Ctrl` + `/` to comment the code"
      ],
      "metadata": {
        "id": "Z-i8rpNk7mBd"
      }
    },
    {
      "cell_type": "code",
      "execution_count": 3,
      "metadata": {
        "id": "W4mkSzTBalJi"
      },
      "outputs": [],
      "source": [
        "import numpy as np"
      ]
    },
    {
      "cell_type": "code",
      "source": [
        "# A = 1\n",
        "# B = 2\n",
        "# C = 3\n",
        "# D = 4\n"
      ],
      "metadata": {
        "id": "x3dZzaaVBdw3"
      },
      "execution_count": 1,
      "outputs": []
    },
    {
      "cell_type": "code",
      "source": [
        "# ในการสร้างเวกเตอร์นั้นจะใช้ list หรือ numpy array ก็ได้\n",
        "\n",
        "a = [1,2,3,4]\n",
        "\n",
        "a = [1,2,3,4] + [5,6,7,8]\n",
        "\n",
        "a\n",
        "\n",
        "u = np.array([1,2,3,4])\n",
        "\n",
        "u"
      ],
      "metadata": {
        "id": "C2CM4uZ82IvY",
        "colab": {
          "base_uri": "https://localhost:8080/"
        },
        "outputId": "48c9c4c9-6a8b-4a9b-b30e-7e6340439693"
      },
      "execution_count": 4,
      "outputs": [
        {
          "output_type": "execute_result",
          "data": {
            "text/plain": [
              "array([1, 2, 3, 4])"
            ]
          },
          "metadata": {},
          "execution_count": 4
        }
      ]
    },
    {
      "cell_type": "code",
      "execution_count": 5,
      "metadata": {
        "id": "XE7qG2DhLt1V",
        "colab": {
          "base_uri": "https://localhost:8080/"
        },
        "outputId": "5978bf3b-7596-4f35-8b7b-49de5fc523b5"
      },
      "outputs": [
        {
          "output_type": "execute_result",
          "data": {
            "text/plain": [
              "(4,)"
            ]
          },
          "metadata": {},
          "execution_count": 5
        }
      ],
      "source": [
        "# number of elements in a vector (shape of a vector)\n",
        "\n",
        "u.shape\n"
      ]
    },
    {
      "cell_type": "code",
      "execution_count": 6,
      "metadata": {
        "id": "7TWReO68LYTO",
        "colab": {
          "base_uri": "https://localhost:8080/"
        },
        "outputId": "e5e87a0d-261a-4ee7-d94e-c15da9e55a96"
      },
      "outputs": [
        {
          "output_type": "stream",
          "name": "stdout",
          "text": [
            "[[1 2 3 4]]\n",
            "[[1]\n",
            " [2]\n",
            " [3]\n",
            " [4]]\n"
          ]
        }
      ],
      "source": [
        "# row vector\n",
        "u1 = np.array([1,2,3,4])\n",
        "u2 = np.array([[1,2,3,4]])\n",
        "\n",
        "\n",
        "# column vector\n",
        "v = np.array([[1],[2],[3],[4]])\n",
        "\n",
        "print(u2)\n",
        "print(v)"
      ]
    },
    {
      "cell_type": "code",
      "execution_count": 7,
      "metadata": {
        "id": "NZa2EvC3MQ8w",
        "colab": {
          "base_uri": "https://localhost:8080/"
        },
        "outputId": "0e548c66-6ac1-49bd-f148-1c3e54660343"
      },
      "outputs": [
        {
          "output_type": "stream",
          "name": "stdout",
          "text": [
            "(4,)\n",
            "(1, 4)\n",
            "(4, 1)\n"
          ]
        }
      ],
      "source": [
        "# print the shapes\n",
        "print(u1.shape)\n",
        "print(u2.shape)\n",
        "print(v.shape)\n"
      ]
    },
    {
      "cell_type": "code",
      "source": [
        "# Example of a matrix\n",
        "\n",
        "A = np.array([[1,2],[3,4]])\n",
        "\n",
        "A"
      ],
      "metadata": {
        "id": "kN_FYYd32QqY",
        "colab": {
          "base_uri": "https://localhost:8080/"
        },
        "outputId": "3d5ddd0f-b7f0-4801-ca12-3f674603939f"
      },
      "execution_count": 11,
      "outputs": [
        {
          "output_type": "execute_result",
          "data": {
            "text/plain": [
              "array([[1, 2],\n",
              "       [3, 4]])"
            ]
          },
          "metadata": {},
          "execution_count": 11
        }
      ]
    },
    {
      "cell_type": "code",
      "source": [
        "# Print shape\n",
        "\n",
        "A.shape"
      ],
      "metadata": {
        "id": "VAP19d5W2TEm",
        "colab": {
          "base_uri": "https://localhost:8080/"
        },
        "outputId": "e1e044ca-8160-4b3f-ea90-4bfd070ae4cd"
      },
      "execution_count": 12,
      "outputs": [
        {
          "output_type": "execute_result",
          "data": {
            "text/plain": [
              "(2, 2)"
            ]
          },
          "metadata": {},
          "execution_count": 12
        }
      ]
    },
    {
      "cell_type": "markdown",
      "metadata": {
        "id": "qu9VCxBuFs62"
      },
      "source": [
        "### Indexing"
      ]
    },
    {
      "cell_type": "code",
      "execution_count": 13,
      "metadata": {
        "id": "l7Qb9bC6PckH",
        "colab": {
          "base_uri": "https://localhost:8080/"
        },
        "outputId": "aa2c0053-c4c8-45bb-d6ac-745aa77da7a8"
      },
      "outputs": [
        {
          "output_type": "stream",
          "name": "stdout",
          "text": [
            "[[ 1  2  3  4]\n",
            " [ 5  6  7  8]\n",
            " [ 9 10 11 12]]\n",
            "11\n"
          ]
        }
      ],
      "source": [
        "A = np.array([[1,2,3,4],[5,6,7,8],[9,10,11,12]])\n",
        "\n",
        "print(A)\n",
        "print(A[2,2])"
      ]
    },
    {
      "cell_type": "code",
      "source": [
        "A[2,:]"
      ],
      "metadata": {
        "colab": {
          "base_uri": "https://localhost:8080/"
        },
        "id": "hZYo98TNFN2y",
        "outputId": "323e0fb6-fbbd-45b7-a57d-bb189a75851f"
      },
      "execution_count": 14,
      "outputs": [
        {
          "output_type": "execute_result",
          "data": {
            "text/plain": [
              "array([ 9, 10, 11, 12])"
            ]
          },
          "metadata": {},
          "execution_count": 14
        }
      ]
    },
    {
      "cell_type": "code",
      "source": [
        "A[:,2]"
      ],
      "metadata": {
        "colab": {
          "base_uri": "https://localhost:8080/"
        },
        "id": "jTKRl0mIFYXD",
        "outputId": "21007e95-d37b-4e76-fa1a-0425bee9d054"
      },
      "execution_count": 15,
      "outputs": [
        {
          "output_type": "execute_result",
          "data": {
            "text/plain": [
              "array([ 3,  7, 11])"
            ]
          },
          "metadata": {},
          "execution_count": 15
        }
      ]
    },
    {
      "cell_type": "code",
      "source": [
        "A[1:,2]"
      ],
      "metadata": {
        "colab": {
          "base_uri": "https://localhost:8080/"
        },
        "id": "5J3VJoe9FgBe",
        "outputId": "6db8723f-2a9d-458f-ed9a-2ff01905ccb4"
      },
      "execution_count": null,
      "outputs": [
        {
          "output_type": "execute_result",
          "data": {
            "text/plain": [
              "array([ 7, 11])"
            ]
          },
          "metadata": {},
          "execution_count": 48
        }
      ]
    },
    {
      "cell_type": "code",
      "source": [
        "A[:-1,2]"
      ],
      "metadata": {
        "colab": {
          "base_uri": "https://localhost:8080/"
        },
        "id": "Ttdbt7T7FvYp",
        "outputId": "c00fa49e-0a45-4a78-998f-42bfe68da8f0"
      },
      "execution_count": 16,
      "outputs": [
        {
          "output_type": "execute_result",
          "data": {
            "text/plain": [
              "array([3, 7])"
            ]
          },
          "metadata": {},
          "execution_count": 16
        }
      ]
    },
    {
      "cell_type": "code",
      "source": [
        "A[-2:,2]"
      ],
      "metadata": {
        "colab": {
          "base_uri": "https://localhost:8080/"
        },
        "id": "cxBE16zkF7jI",
        "outputId": "fa1278c8-90bd-403b-cab7-60e2121264a7"
      },
      "execution_count": 17,
      "outputs": [
        {
          "output_type": "execute_result",
          "data": {
            "text/plain": [
              "array([ 7, 11])"
            ]
          },
          "metadata": {},
          "execution_count": 17
        }
      ]
    },
    {
      "cell_type": "markdown",
      "source": [
        "### Changing elements"
      ],
      "metadata": {
        "id": "kiILpNpk4HHZ"
      }
    },
    {
      "cell_type": "code",
      "execution_count": 18,
      "metadata": {
        "id": "ZRzv6sZ7527z",
        "colab": {
          "base_uri": "https://localhost:8080/"
        },
        "outputId": "3f181055-3368-41e4-919f-de3554ae90bb"
      },
      "outputs": [
        {
          "output_type": "stream",
          "name": "stdout",
          "text": [
            "[[  1   2   3   4]\n",
            " [  5   6   7   8]\n",
            " [  9  10 100  12]]\n"
          ]
        }
      ],
      "source": [
        "# Changing a single element\n",
        "A = np.array([[1,2,3,4],[5,6,7,8],[9,10,11,12]])\n",
        "\n",
        "A[2,2] = 100\n",
        "\n",
        "print(A)"
      ]
    },
    {
      "cell_type": "code",
      "execution_count": 19,
      "metadata": {
        "id": "Lfvam3jyJsv5",
        "colab": {
          "base_uri": "https://localhost:8080/"
        },
        "outputId": "df7777a7-b0b0-4471-fbad-d5df6b2b8e38"
      },
      "outputs": [
        {
          "output_type": "stream",
          "name": "stdout",
          "text": [
            "[[ 7  2  3  4]\n",
            " [ 3  3  3  3]\n",
            " [ 7 10 11 12]]\n"
          ]
        }
      ],
      "source": [
        "# Changing a row or column\n",
        "A = np.array([[1,2,3,4],[5,6,7,8],[9,10,11,12]])\n",
        "u = [7,7,7]\n",
        "v = [3,3,3,3]\n",
        "\n",
        "A[:,0] = u\n",
        "\n",
        "A[1,:] = v\n",
        "\n",
        "print(A)"
      ]
    },
    {
      "cell_type": "markdown",
      "source": [
        "### Reverse the order of elements"
      ],
      "metadata": {
        "id": "Wfq8v0Ut7UBZ"
      }
    },
    {
      "cell_type": "code",
      "source": [
        "u = [1, 2, 3, 4]\n",
        "\n",
        "u[::-1]"
      ],
      "metadata": {
        "id": "T1YSEhXn7RTG",
        "colab": {
          "base_uri": "https://localhost:8080/"
        },
        "outputId": "6d0eaf0a-06db-4dc7-97a0-8d0e9fb28c49"
      },
      "execution_count": 20,
      "outputs": [
        {
          "output_type": "execute_result",
          "data": {
            "text/plain": [
              "[4, 3, 2, 1]"
            ]
          },
          "metadata": {},
          "execution_count": 20
        }
      ]
    },
    {
      "cell_type": "code",
      "source": [
        "A = np.array([[1,2,3,4],[5,6,7,8],[9,10,11,12]])\n",
        "\n",
        "A[:,::-1]"
      ],
      "metadata": {
        "id": "fLuTkR0X7Zkw",
        "colab": {
          "base_uri": "https://localhost:8080/"
        },
        "outputId": "43913f00-ce69-4025-f214-76da8ff33e36"
      },
      "execution_count": 21,
      "outputs": [
        {
          "output_type": "execute_result",
          "data": {
            "text/plain": [
              "array([[ 4,  3,  2,  1],\n",
              "       [ 8,  7,  6,  5],\n",
              "       [12, 11, 10,  9]])"
            ]
          },
          "metadata": {},
          "execution_count": 21
        }
      ]
    },
    {
      "cell_type": "markdown",
      "metadata": {
        "id": "0_N4lVNaGQGJ"
      },
      "source": [
        "### Basic operations between a matrix and a number"
      ]
    },
    {
      "cell_type": "code",
      "execution_count": 22,
      "metadata": {
        "id": "jPHnZVNOsTnP",
        "colab": {
          "base_uri": "https://localhost:8080/"
        },
        "outputId": "27cf827c-435c-4260-85c6-c82e004c46b5"
      },
      "outputs": [
        {
          "output_type": "execute_result",
          "data": {
            "text/plain": [
              "array([[2, 3],\n",
              "       [4, 5]])"
            ]
          },
          "metadata": {},
          "execution_count": 22
        }
      ],
      "source": [
        "A = np.array([[1,2],[3,4]])\n",
        "\n",
        "A + 1"
      ]
    },
    {
      "cell_type": "code",
      "source": [
        "A * 2"
      ],
      "metadata": {
        "colab": {
          "base_uri": "https://localhost:8080/"
        },
        "id": "gCOAeUVuHtzY",
        "outputId": "b87487c0-9990-4f3d-c9d8-6157b9db6e39"
      },
      "execution_count": 23,
      "outputs": [
        {
          "output_type": "execute_result",
          "data": {
            "text/plain": [
              "array([[2, 4],\n",
              "       [6, 8]])"
            ]
          },
          "metadata": {},
          "execution_count": 23
        }
      ]
    },
    {
      "cell_type": "markdown",
      "metadata": {
        "id": "oQ6H71EtGtiT"
      },
      "source": [
        "### Operations between a matrix and a vector"
      ]
    },
    {
      "cell_type": "code",
      "execution_count": 24,
      "metadata": {
        "id": "9ZyADBep0b48",
        "colab": {
          "base_uri": "https://localhost:8080/"
        },
        "outputId": "890c7de9-ad87-49e7-b91f-44f776ed8314"
      },
      "outputs": [
        {
          "output_type": "execute_result",
          "data": {
            "text/plain": [
              "array([[101, 101, 101, 101],\n",
              "       [201, 201, 201, 201],\n",
              "       [301, 301, 301, 301]])"
            ]
          },
          "metadata": {},
          "execution_count": 24
        }
      ],
      "source": [
        "A = np.array([[1,1,1,1],[1,1,1,1],[1,1,1,1]]) # (3,4) matrix + (1,4), (3,1)\n",
        "u = [10,20,30,40] # (4,) list\n",
        "v = np.array([[100],[200],[300]]) # (3,1) array\n",
        "w = [10, 20, 30]\n",
        "\n",
        "\n",
        "A + u\n",
        "\n",
        "A + v"
      ]
    },
    {
      "cell_type": "markdown",
      "metadata": {
        "id": "7XqJ6DaRHzhv"
      },
      "source": [
        "### Elementwise matrix-matrix multiplication/division"
      ]
    },
    {
      "cell_type": "code",
      "execution_count": 26,
      "metadata": {
        "id": "FmVk9HDZHqdg",
        "colab": {
          "base_uri": "https://localhost:8080/"
        },
        "outputId": "91e540e7-e025-4df7-d08b-7582ca8d66c8"
      },
      "outputs": [
        {
          "output_type": "execute_result",
          "data": {
            "text/plain": [
              "array([[   10,   200],\n",
              "       [ 3000, 40000]])"
            ]
          },
          "metadata": {},
          "execution_count": 26
        }
      ],
      "source": [
        "A = np.array([[1,2],[3,4]])\n",
        "\n",
        "B = np.array([[10,100],[1000,10000]])\n",
        "\n",
        "A * B"
      ]
    },
    {
      "cell_type": "markdown",
      "metadata": {
        "id": "7EleWjGmS7M2"
      },
      "source": [
        "### Dot product"
      ]
    },
    {
      "cell_type": "code",
      "execution_count": 27,
      "metadata": {
        "id": "gbtJMqm7S-RN",
        "colab": {
          "base_uri": "https://localhost:8080/"
        },
        "outputId": "d13f877c-84df-4a4e-e39a-9b99162080fd"
      },
      "outputs": [
        {
          "output_type": "execute_result",
          "data": {
            "text/plain": [
              "np.int64(230)"
            ]
          },
          "metadata": {},
          "execution_count": 27
        }
      ],
      "source": [
        "u = np.array([3,2])\n",
        "\n",
        "v = np.array([10,100])\n",
        "\n",
        "u @ v"
      ]
    },
    {
      "cell_type": "markdown",
      "source": [
        "### Matric-vector multiplication"
      ],
      "metadata": {
        "id": "Ucu5m1576cr_"
      }
    },
    {
      "cell_type": "code",
      "source": [
        "A = np.array([[1,1,0,0],[0,1,0,1],[0,0,1,1]]) # (3,4) matrix\n",
        "u = [10,20,30,40] # (4,) list\n",
        "v = np.array([[10],[20],[30],[40]]) # (4,1) array\n",
        "\n",
        "A @ u\n",
        "\n",
        "A @ v"
      ],
      "metadata": {
        "id": "sx8m03C_6fCd",
        "colab": {
          "base_uri": "https://localhost:8080/"
        },
        "outputId": "9afb6798-5b91-46b7-8c36-dd15fdebbc70"
      },
      "execution_count": 28,
      "outputs": [
        {
          "output_type": "execute_result",
          "data": {
            "text/plain": [
              "array([[30],\n",
              "       [60],\n",
              "       [70]])"
            ]
          },
          "metadata": {},
          "execution_count": 28
        }
      ]
    },
    {
      "cell_type": "markdown",
      "metadata": {
        "id": "EnCip_oGHEG0"
      },
      "source": [
        "### Matrix-matrix multiplication"
      ]
    },
    {
      "cell_type": "code",
      "execution_count": 29,
      "metadata": {
        "id": "OZa_-eD5Jd7V",
        "colab": {
          "base_uri": "https://localhost:8080/"
        },
        "outputId": "31f34f77-77a6-47ea-9778-fb928c7cdbbc"
      },
      "outputs": [
        {
          "output_type": "execute_result",
          "data": {
            "text/plain": [
              "array([[19, 22],\n",
              "       [43, 50]])"
            ]
          },
          "metadata": {},
          "execution_count": 29
        }
      ],
      "source": [
        "A = np.array([[1,2],[3,4]])\n",
        "\n",
        "B = np.array([[5,6],[7,8]])\n",
        "\n",
        "A @ B"
      ]
    },
    {
      "cell_type": "markdown",
      "metadata": {
        "id": "AB7C8wG5LqN-"
      },
      "source": [
        "### Tranpose"
      ]
    },
    {
      "cell_type": "code",
      "execution_count": 32,
      "metadata": {
        "id": "AIBBcO_HLzAE",
        "colab": {
          "base_uri": "https://localhost:8080/"
        },
        "outputId": "418f022e-2bfc-429f-a861-1422edd584da"
      },
      "outputs": [
        {
          "output_type": "execute_result",
          "data": {
            "text/plain": [
              "array([[1, 4],\n",
              "       [2, 5],\n",
              "       [3, 6]])"
            ]
          },
          "metadata": {},
          "execution_count": 32
        }
      ],
      "source": [
        "A = np.array([[1,2,3],[4,5,6]])\n",
        "\n",
        "\n",
        "A.T"
      ]
    },
    {
      "cell_type": "markdown",
      "metadata": {
        "id": "gj3yIhtQKyFf"
      },
      "source": [
        "### Methods on different axes"
      ]
    },
    {
      "cell_type": "markdown",
      "source": [
        "<img src=\"https://i.sstatic.net/M1K5N.png\" alt=\"numpy-axes\" width=\"600\"/>"
      ],
      "metadata": {
        "id": "lblbz9rz5gnJ"
      }
    },
    {
      "cell_type": "code",
      "execution_count": 31,
      "metadata": {
        "id": "hPJVcqtzw8RA",
        "colab": {
          "base_uri": "https://localhost:8080/"
        },
        "outputId": "43032e7a-5107-47be-9b13-fa8bda94bc6d"
      },
      "outputs": [
        {
          "output_type": "execute_result",
          "data": {
            "text/plain": [
              "array([1.63299316, 1.63299316])"
            ]
          },
          "metadata": {},
          "execution_count": 31
        }
      ],
      "source": [
        "A = np.array([[1, 3, 5], [11, 13, 15]])\n",
        "\n",
        "# mean\n",
        "A.mean(axis=0)\n",
        "A.mean(axis=1)\n",
        "\n",
        "# standard deviation\n",
        "A.std(axis=0)\n",
        "A.std(axis=1)\n"
      ]
    },
    {
      "cell_type": "markdown",
      "source": [
        "### Pandas dataframe to Numpy array"
      ],
      "metadata": {
        "id": "XOcOECB53R4I"
      }
    },
    {
      "cell_type": "code",
      "execution_count": 33,
      "metadata": {
        "id": "25nyOA1wLCf4",
        "colab": {
          "base_uri": "https://localhost:8080/",
          "height": 175
        },
        "outputId": "cc0e8fb0-a6dc-45d3-cbf0-560737e2a16d"
      },
      "outputs": [
        {
          "output_type": "execute_result",
          "data": {
            "text/plain": [
              "   feat 1  feat 2  feat 3\n",
              "0       2       4       5\n",
              "1       4       1       2\n",
              "2       3       2       1\n",
              "3       1       5       6"
            ],
            "text/html": [
              "\n",
              "  <div id=\"df-7f81b7fd-7db9-4cdc-a840-8f6fbd73ad90\" class=\"colab-df-container\">\n",
              "    <div>\n",
              "<style scoped>\n",
              "    .dataframe tbody tr th:only-of-type {\n",
              "        vertical-align: middle;\n",
              "    }\n",
              "\n",
              "    .dataframe tbody tr th {\n",
              "        vertical-align: top;\n",
              "    }\n",
              "\n",
              "    .dataframe thead th {\n",
              "        text-align: right;\n",
              "    }\n",
              "</style>\n",
              "<table border=\"1\" class=\"dataframe\">\n",
              "  <thead>\n",
              "    <tr style=\"text-align: right;\">\n",
              "      <th></th>\n",
              "      <th>feat 1</th>\n",
              "      <th>feat 2</th>\n",
              "      <th>feat 3</th>\n",
              "    </tr>\n",
              "  </thead>\n",
              "  <tbody>\n",
              "    <tr>\n",
              "      <th>0</th>\n",
              "      <td>2</td>\n",
              "      <td>4</td>\n",
              "      <td>5</td>\n",
              "    </tr>\n",
              "    <tr>\n",
              "      <th>1</th>\n",
              "      <td>4</td>\n",
              "      <td>1</td>\n",
              "      <td>2</td>\n",
              "    </tr>\n",
              "    <tr>\n",
              "      <th>2</th>\n",
              "      <td>3</td>\n",
              "      <td>2</td>\n",
              "      <td>1</td>\n",
              "    </tr>\n",
              "    <tr>\n",
              "      <th>3</th>\n",
              "      <td>1</td>\n",
              "      <td>5</td>\n",
              "      <td>6</td>\n",
              "    </tr>\n",
              "  </tbody>\n",
              "</table>\n",
              "</div>\n",
              "    <div class=\"colab-df-buttons\">\n",
              "\n",
              "  <div class=\"colab-df-container\">\n",
              "    <button class=\"colab-df-convert\" onclick=\"convertToInteractive('df-7f81b7fd-7db9-4cdc-a840-8f6fbd73ad90')\"\n",
              "            title=\"Convert this dataframe to an interactive table.\"\n",
              "            style=\"display:none;\">\n",
              "\n",
              "  <svg xmlns=\"http://www.w3.org/2000/svg\" height=\"24px\" viewBox=\"0 -960 960 960\">\n",
              "    <path d=\"M120-120v-720h720v720H120Zm60-500h600v-160H180v160Zm220 220h160v-160H400v160Zm0 220h160v-160H400v160ZM180-400h160v-160H180v160Zm440 0h160v-160H620v160ZM180-180h160v-160H180v160Zm440 0h160v-160H620v160Z\"/>\n",
              "  </svg>\n",
              "    </button>\n",
              "\n",
              "  <style>\n",
              "    .colab-df-container {\n",
              "      display:flex;\n",
              "      gap: 12px;\n",
              "    }\n",
              "\n",
              "    .colab-df-convert {\n",
              "      background-color: #E8F0FE;\n",
              "      border: none;\n",
              "      border-radius: 50%;\n",
              "      cursor: pointer;\n",
              "      display: none;\n",
              "      fill: #1967D2;\n",
              "      height: 32px;\n",
              "      padding: 0 0 0 0;\n",
              "      width: 32px;\n",
              "    }\n",
              "\n",
              "    .colab-df-convert:hover {\n",
              "      background-color: #E2EBFA;\n",
              "      box-shadow: 0px 1px 2px rgba(60, 64, 67, 0.3), 0px 1px 3px 1px rgba(60, 64, 67, 0.15);\n",
              "      fill: #174EA6;\n",
              "    }\n",
              "\n",
              "    .colab-df-buttons div {\n",
              "      margin-bottom: 4px;\n",
              "    }\n",
              "\n",
              "    [theme=dark] .colab-df-convert {\n",
              "      background-color: #3B4455;\n",
              "      fill: #D2E3FC;\n",
              "    }\n",
              "\n",
              "    [theme=dark] .colab-df-convert:hover {\n",
              "      background-color: #434B5C;\n",
              "      box-shadow: 0px 1px 3px 1px rgba(0, 0, 0, 0.15);\n",
              "      filter: drop-shadow(0px 1px 2px rgba(0, 0, 0, 0.3));\n",
              "      fill: #FFFFFF;\n",
              "    }\n",
              "  </style>\n",
              "\n",
              "    <script>\n",
              "      const buttonEl =\n",
              "        document.querySelector('#df-7f81b7fd-7db9-4cdc-a840-8f6fbd73ad90 button.colab-df-convert');\n",
              "      buttonEl.style.display =\n",
              "        google.colab.kernel.accessAllowed ? 'block' : 'none';\n",
              "\n",
              "      async function convertToInteractive(key) {\n",
              "        const element = document.querySelector('#df-7f81b7fd-7db9-4cdc-a840-8f6fbd73ad90');\n",
              "        const dataTable =\n",
              "          await google.colab.kernel.invokeFunction('convertToInteractive',\n",
              "                                                    [key], {});\n",
              "        if (!dataTable) return;\n",
              "\n",
              "        const docLinkHtml = 'Like what you see? Visit the ' +\n",
              "          '<a target=\"_blank\" href=https://colab.research.google.com/notebooks/data_table.ipynb>data table notebook</a>'\n",
              "          + ' to learn more about interactive tables.';\n",
              "        element.innerHTML = '';\n",
              "        dataTable['output_type'] = 'display_data';\n",
              "        await google.colab.output.renderOutput(dataTable, element);\n",
              "        const docLink = document.createElement('div');\n",
              "        docLink.innerHTML = docLinkHtml;\n",
              "        element.appendChild(docLink);\n",
              "      }\n",
              "    </script>\n",
              "  </div>\n",
              "\n",
              "\n",
              "    <div id=\"df-b5f52ac0-7869-4c28-a7d5-3c864a5fdb58\">\n",
              "      <button class=\"colab-df-quickchart\" onclick=\"quickchart('df-b5f52ac0-7869-4c28-a7d5-3c864a5fdb58')\"\n",
              "                title=\"Suggest charts\"\n",
              "                style=\"display:none;\">\n",
              "\n",
              "<svg xmlns=\"http://www.w3.org/2000/svg\" height=\"24px\"viewBox=\"0 0 24 24\"\n",
              "     width=\"24px\">\n",
              "    <g>\n",
              "        <path d=\"M19 3H5c-1.1 0-2 .9-2 2v14c0 1.1.9 2 2 2h14c1.1 0 2-.9 2-2V5c0-1.1-.9-2-2-2zM9 17H7v-7h2v7zm4 0h-2V7h2v10zm4 0h-2v-4h2v4z\"/>\n",
              "    </g>\n",
              "</svg>\n",
              "      </button>\n",
              "\n",
              "<style>\n",
              "  .colab-df-quickchart {\n",
              "      --bg-color: #E8F0FE;\n",
              "      --fill-color: #1967D2;\n",
              "      --hover-bg-color: #E2EBFA;\n",
              "      --hover-fill-color: #174EA6;\n",
              "      --disabled-fill-color: #AAA;\n",
              "      --disabled-bg-color: #DDD;\n",
              "  }\n",
              "\n",
              "  [theme=dark] .colab-df-quickchart {\n",
              "      --bg-color: #3B4455;\n",
              "      --fill-color: #D2E3FC;\n",
              "      --hover-bg-color: #434B5C;\n",
              "      --hover-fill-color: #FFFFFF;\n",
              "      --disabled-bg-color: #3B4455;\n",
              "      --disabled-fill-color: #666;\n",
              "  }\n",
              "\n",
              "  .colab-df-quickchart {\n",
              "    background-color: var(--bg-color);\n",
              "    border: none;\n",
              "    border-radius: 50%;\n",
              "    cursor: pointer;\n",
              "    display: none;\n",
              "    fill: var(--fill-color);\n",
              "    height: 32px;\n",
              "    padding: 0;\n",
              "    width: 32px;\n",
              "  }\n",
              "\n",
              "  .colab-df-quickchart:hover {\n",
              "    background-color: var(--hover-bg-color);\n",
              "    box-shadow: 0 1px 2px rgba(60, 64, 67, 0.3), 0 1px 3px 1px rgba(60, 64, 67, 0.15);\n",
              "    fill: var(--button-hover-fill-color);\n",
              "  }\n",
              "\n",
              "  .colab-df-quickchart-complete:disabled,\n",
              "  .colab-df-quickchart-complete:disabled:hover {\n",
              "    background-color: var(--disabled-bg-color);\n",
              "    fill: var(--disabled-fill-color);\n",
              "    box-shadow: none;\n",
              "  }\n",
              "\n",
              "  .colab-df-spinner {\n",
              "    border: 2px solid var(--fill-color);\n",
              "    border-color: transparent;\n",
              "    border-bottom-color: var(--fill-color);\n",
              "    animation:\n",
              "      spin 1s steps(1) infinite;\n",
              "  }\n",
              "\n",
              "  @keyframes spin {\n",
              "    0% {\n",
              "      border-color: transparent;\n",
              "      border-bottom-color: var(--fill-color);\n",
              "      border-left-color: var(--fill-color);\n",
              "    }\n",
              "    20% {\n",
              "      border-color: transparent;\n",
              "      border-left-color: var(--fill-color);\n",
              "      border-top-color: var(--fill-color);\n",
              "    }\n",
              "    30% {\n",
              "      border-color: transparent;\n",
              "      border-left-color: var(--fill-color);\n",
              "      border-top-color: var(--fill-color);\n",
              "      border-right-color: var(--fill-color);\n",
              "    }\n",
              "    40% {\n",
              "      border-color: transparent;\n",
              "      border-right-color: var(--fill-color);\n",
              "      border-top-color: var(--fill-color);\n",
              "    }\n",
              "    60% {\n",
              "      border-color: transparent;\n",
              "      border-right-color: var(--fill-color);\n",
              "    }\n",
              "    80% {\n",
              "      border-color: transparent;\n",
              "      border-right-color: var(--fill-color);\n",
              "      border-bottom-color: var(--fill-color);\n",
              "    }\n",
              "    90% {\n",
              "      border-color: transparent;\n",
              "      border-bottom-color: var(--fill-color);\n",
              "    }\n",
              "  }\n",
              "</style>\n",
              "\n",
              "      <script>\n",
              "        async function quickchart(key) {\n",
              "          const quickchartButtonEl =\n",
              "            document.querySelector('#' + key + ' button');\n",
              "          quickchartButtonEl.disabled = true;  // To prevent multiple clicks.\n",
              "          quickchartButtonEl.classList.add('colab-df-spinner');\n",
              "          try {\n",
              "            const charts = await google.colab.kernel.invokeFunction(\n",
              "                'suggestCharts', [key], {});\n",
              "          } catch (error) {\n",
              "            console.error('Error during call to suggestCharts:', error);\n",
              "          }\n",
              "          quickchartButtonEl.classList.remove('colab-df-spinner');\n",
              "          quickchartButtonEl.classList.add('colab-df-quickchart-complete');\n",
              "        }\n",
              "        (() => {\n",
              "          let quickchartButtonEl =\n",
              "            document.querySelector('#df-b5f52ac0-7869-4c28-a7d5-3c864a5fdb58 button');\n",
              "          quickchartButtonEl.style.display =\n",
              "            google.colab.kernel.accessAllowed ? 'block' : 'none';\n",
              "        })();\n",
              "      </script>\n",
              "    </div>\n",
              "\n",
              "  <div id=\"id_813ebf94-6d3b-4459-8527-c07bf3610aec\">\n",
              "    <style>\n",
              "      .colab-df-generate {\n",
              "        background-color: #E8F0FE;\n",
              "        border: none;\n",
              "        border-radius: 50%;\n",
              "        cursor: pointer;\n",
              "        display: none;\n",
              "        fill: #1967D2;\n",
              "        height: 32px;\n",
              "        padding: 0 0 0 0;\n",
              "        width: 32px;\n",
              "      }\n",
              "\n",
              "      .colab-df-generate:hover {\n",
              "        background-color: #E2EBFA;\n",
              "        box-shadow: 0px 1px 2px rgba(60, 64, 67, 0.3), 0px 1px 3px 1px rgba(60, 64, 67, 0.15);\n",
              "        fill: #174EA6;\n",
              "      }\n",
              "\n",
              "      [theme=dark] .colab-df-generate {\n",
              "        background-color: #3B4455;\n",
              "        fill: #D2E3FC;\n",
              "      }\n",
              "\n",
              "      [theme=dark] .colab-df-generate:hover {\n",
              "        background-color: #434B5C;\n",
              "        box-shadow: 0px 1px 3px 1px rgba(0, 0, 0, 0.15);\n",
              "        filter: drop-shadow(0px 1px 2px rgba(0, 0, 0, 0.3));\n",
              "        fill: #FFFFFF;\n",
              "      }\n",
              "    </style>\n",
              "    <button class=\"colab-df-generate\" onclick=\"generateWithVariable('data')\"\n",
              "            title=\"Generate code using this dataframe.\"\n",
              "            style=\"display:none;\">\n",
              "\n",
              "  <svg xmlns=\"http://www.w3.org/2000/svg\" height=\"24px\"viewBox=\"0 0 24 24\"\n",
              "       width=\"24px\">\n",
              "    <path d=\"M7,19H8.4L18.45,9,17,7.55,7,17.6ZM5,21V16.75L18.45,3.32a2,2,0,0,1,2.83,0l1.4,1.43a1.91,1.91,0,0,1,.58,1.4,1.91,1.91,0,0,1-.58,1.4L9.25,21ZM18.45,9,17,7.55Zm-12,3A5.31,5.31,0,0,0,4.9,8.1,5.31,5.31,0,0,0,1,6.5,5.31,5.31,0,0,0,4.9,4.9,5.31,5.31,0,0,0,6.5,1,5.31,5.31,0,0,0,8.1,4.9,5.31,5.31,0,0,0,12,6.5,5.46,5.46,0,0,0,6.5,12Z\"/>\n",
              "  </svg>\n",
              "    </button>\n",
              "    <script>\n",
              "      (() => {\n",
              "      const buttonEl =\n",
              "        document.querySelector('#id_813ebf94-6d3b-4459-8527-c07bf3610aec button.colab-df-generate');\n",
              "      buttonEl.style.display =\n",
              "        google.colab.kernel.accessAllowed ? 'block' : 'none';\n",
              "\n",
              "      buttonEl.onclick = () => {\n",
              "        google.colab.notebook.generateWithVariable('data');\n",
              "      }\n",
              "      })();\n",
              "    </script>\n",
              "  </div>\n",
              "\n",
              "    </div>\n",
              "  </div>\n"
            ],
            "application/vnd.google.colaboratory.intrinsic+json": {
              "type": "dataframe",
              "variable_name": "data",
              "summary": "{\n  \"name\": \"data\",\n  \"rows\": 4,\n  \"fields\": [\n    {\n      \"column\": \"feat 1\",\n      \"properties\": {\n        \"dtype\": \"number\",\n        \"std\": 1,\n        \"min\": 1,\n        \"max\": 4,\n        \"num_unique_values\": 4,\n        \"samples\": [\n          4,\n          1,\n          2\n        ],\n        \"semantic_type\": \"\",\n        \"description\": \"\"\n      }\n    },\n    {\n      \"column\": \"feat 2\",\n      \"properties\": {\n        \"dtype\": \"number\",\n        \"std\": 1,\n        \"min\": 1,\n        \"max\": 5,\n        \"num_unique_values\": 4,\n        \"samples\": [\n          1,\n          5,\n          4\n        ],\n        \"semantic_type\": \"\",\n        \"description\": \"\"\n      }\n    },\n    {\n      \"column\": \"feat 3\",\n      \"properties\": {\n        \"dtype\": \"number\",\n        \"std\": 2,\n        \"min\": 1,\n        \"max\": 6,\n        \"num_unique_values\": 4,\n        \"samples\": [\n          2,\n          6,\n          5\n        ],\n        \"semantic_type\": \"\",\n        \"description\": \"\"\n      }\n    }\n  ]\n}"
            }
          },
          "metadata": {},
          "execution_count": 33
        }
      ],
      "source": [
        "import pandas as pd\n",
        "\n",
        "data = pd.DataFrame({\n",
        "    'feat 1' : [2,4,3,1],\n",
        "    'feat 2' : [4,1,2,5],\n",
        "    'feat 3' : [5,2,1,6]})\n",
        "\n",
        "data"
      ]
    },
    {
      "cell_type": "code",
      "execution_count": 34,
      "metadata": {
        "id": "TWoz-qMICQsv",
        "colab": {
          "base_uri": "https://localhost:8080/"
        },
        "outputId": "84a41bba-fed9-4449-f738-ec0ea0ac405d"
      },
      "outputs": [
        {
          "output_type": "execute_result",
          "data": {
            "text/plain": [
              "array([[2, 4, 5],\n",
              "       [4, 1, 2],\n",
              "       [3, 2, 1],\n",
              "       [1, 5, 6]])"
            ]
          },
          "metadata": {},
          "execution_count": 34
        }
      ],
      "source": [
        "# dataframe to array\n",
        "\n",
        "\n",
        "data.values"
      ]
    },
    {
      "cell_type": "markdown",
      "metadata": {
        "id": "ZhMJJv8ajmCs"
      },
      "source": [
        "### End of tutorial"
      ]
    },
    {
      "cell_type": "code",
      "execution_count": 35,
      "metadata": {
        "id": "W6BO5Vkvd0Gp",
        "colab": {
          "base_uri": "https://localhost:8080/"
        },
        "outputId": "b01af1f3-5805-4061-f44e-3899cb8ed22c"
      },
      "outputs": [
        {
          "output_type": "stream",
          "name": "stdout",
          "text": [
            "--2025-07-08 09:45:18--  https://www.tensorflow.org/static/tutorials/images/classification_files/output_N1loMlbYHeiJ_0.png?hl=ja\n",
            "Resolving www.tensorflow.org (www.tensorflow.org)... 142.251.2.100, 142.251.2.102, 142.251.2.139, ...\n",
            "Connecting to www.tensorflow.org (www.tensorflow.org)|142.251.2.100|:443... connected.\n",
            "HTTP request sent, awaiting response... 200 OK\n",
            "Length: 135088 (132K) [image/png]\n",
            "Saving to: ‘image.png’\n",
            "\n",
            "image.png           100%[===================>] 131.92K  --.-KB/s    in 0.05s   \n",
            "\n",
            "2025-07-08 09:45:18 (2.46 MB/s) - ‘image.png’ saved [135088/135088]\n",
            "\n"
          ]
        }
      ],
      "source": [
        "from PIL import Image\n",
        "import matplotlib.pyplot as plt\n",
        "\n",
        "#download an image\n",
        "!wget -O image.png https://www.tensorflow.org/static/tutorials/images/classification_files/output_N1loMlbYHeiJ_0.png?hl=ja\n",
        "\n",
        "#load image and convert to numpy array\n",
        "img_file = Image.open(\"image.png\").convert('L')\n",
        "img = np.array(img_file.getdata(), dtype=np.uint8)\n",
        "img = np.resize(img, (img_file.size[1], img_file.size[0]))\n"
      ]
    },
    {
      "cell_type": "code",
      "execution_count": 36,
      "metadata": {
        "id": "uSMlnJdyfKFA",
        "colab": {
          "base_uri": "https://localhost:8080/",
          "height": 415
        },
        "outputId": "656f30c8-dad7-4d53-90bd-91101e33b109"
      },
      "outputs": [
        {
          "output_type": "stream",
          "name": "stdout",
          "text": [
            "(334, 500)\n"
          ]
        },
        {
          "output_type": "display_data",
          "data": {
            "text/plain": [
              "<Figure size 640x480 with 1 Axes>"
            ],
            "image/png": "[encoded data removed]"
          },
          "metadata": {}
        }
      ],
      "source": [
        "print(img.shape)\n",
        "\n",
        "plt.imshow(img, cmap='gray', vmin=0, vmax=255);"
      ]
    },
    {
      "cell_type": "code",
      "source": [
        "print(img[150:200,200:300])"
      ],
      "metadata": {
        "colab": {
          "base_uri": "https://localhost:8080/"
        },
        "id": "VCxsPQRULvON",
        "outputId": "9059612c-d0de-4c15-8196-2be1673094a9"
      },
      "execution_count": 37,
      "outputs": [
        {
          "output_type": "stream",
          "name": "stdout",
          "text": [
            "[[104 113 106 ...  49  60 104]\n",
            " [116 121 129 ...  47  65  67]\n",
            " [129 129 135 ...  49  44  57]\n",
            " ...\n",
            " [191 189 168 ...  34  32  32]\n",
            " [184 187 187 ...  32  32  33]\n",
            " [202 200 202 ...  33  32  31]]\n"
          ]
        }
      ]
    },
    {
      "cell_type": "code",
      "execution_count": 38,
      "metadata": {
        "id": "j-lSuES37-5t",
        "colab": {
          "base_uri": "https://localhost:8080/",
          "height": 374
        },
        "outputId": "023f67ed-a602-47ba-b8a5-a2ddcffc0d93"
      },
      "outputs": [
        {
          "output_type": "execute_result",
          "data": {
            "text/plain": [
              "array([[15, 16, 17, ...,  2,  2,  3],\n",
              "       [17, 18, 18, ...,  4,  4,  4],\n",
              "       [16, 18, 18, ...,  4,  4,  3],\n",
              "       ...,\n",
              "       [19, 18, 19, ...,  9,  7,  8],\n",
              "       [18, 17, 18, ...,  9,  7,  8],\n",
              "       [18, 17, 17, ...,  9,  7,  9]], dtype=uint8)"
            ],
            "text/html": [
              "<style>\n",
              "      .ndarray_repr .ndarray_raw_data {\n",
              "        display: none;\n",
              "      }\n",
              "      .ndarray_repr.show_array .ndarray_raw_data {\n",
              "        display: block;\n",
              "      }\n",
              "      .ndarray_repr.show_array .ndarray_image_preview {\n",
              "        display: none;\n",
              "      }\n",
              "      </style>\n",
              "      <div id=\"id-3d0bd661-ad99-4d2b-b6b1-7d48cf58ec8c\" class=\"ndarray_repr\"><pre>ndarray (334, 500) <button style=\"padding: 0 2px;\">show data</button></pre><img src=\"data:image/png;base64,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\" class=\"ndarray_image_preview\" /><pre class=\"ndarray_raw_data\">array([[15, 16, 17, ...,  2,  2,  3],\n",
              "       [17, 18, 18, ...,  4,  4,  4],\n",
              "       [16, 18, 18, ...,  4,  4,  3],\n",
              "       ...,\n",
              "       [19, 18, 19, ...,  9,  7,  8],\n",
              "       [18, 17, 18, ...,  9,  7,  8],\n",
              "       [18, 17, 17, ...,  9,  7,  9]], dtype=uint8)</pre></div><script>\n",
              "      (() => {\n",
              "      const titles = ['show data', 'hide data'];\n",
              "      let index = 0\n",
              "      document.querySelector('#id-3d0bd661-ad99-4d2b-b6b1-7d48cf58ec8c button').onclick = (e) => {\n",
              "        document.querySelector('#id-3d0bd661-ad99-4d2b-b6b1-7d48cf58ec8c').classList.toggle('show_array');\n",
              "        index = (++index) % 2;\n",
              "        document.querySelector('#id-3d0bd661-ad99-4d2b-b6b1-7d48cf58ec8c button').textContent = titles[index];\n",
              "        e.preventDefault();\n",
              "        e.stopPropagation();\n",
              "      }\n",
              "      })();\n",
              "    </script>"
            ]
          },
          "metadata": {},
          "execution_count": 38
        }
      ],
      "source": [
        "img"
      ]
    },
    {
      "cell_type": "markdown",
      "metadata": {
        "id": "pp8J2lKI0Vea"
      },
      "source": [
        "### Exercise 1\n",
        "\n",
        "1. สมมติให้ $I$ เป็นรูปภาพ การปรับ contrast ให้อยู่ในระดับที่ $F$ ($F=0$ รูปจะเป็นสีเทา $F=1$ จะได้รูปเดิม) ใช้สูตร\n",
        "$$ I' = \\text{Truncate}(F\\times(I-127.5)+127.5) $$\n",
        "โดยที่\n",
        "* $I'$ เป็นรูปใหม่ที่ได้   \n",
        "* $F$ มีค่าระหว่าง $0$ กับ $1$  \n",
        "* $\\text{Truncate}(x)=0$ ถ้า $x<0$\n",
        "* $\\text{Truncate}(x)=255$ ถ้า $x>255$  \n",
        "จงเขียนฟังก์ชัน `contrast(img, F)` สำหรับการปรับ contrast ของรูป `img` ด้วยสูตรข้างบน โดยที่ $F$ มีค่าเท่ากับ `F`"
      ]
    },
    {
      "cell_type": "code",
      "execution_count": 47,
      "metadata": {
        "id": "w3Q0ni4-_j26",
        "colab": {
          "base_uri": "https://localhost:8080/"
        },
        "outputId": "0423f997-a9d4-4dcf-a8c4-2c8f6f73a3ef"
      },
      "outputs": [
        {
          "output_type": "execute_result",
          "data": {
            "text/plain": [
              "(334, 500)"
            ]
          },
          "metadata": {},
          "execution_count": 47
        }
      ],
      "source": [
        "img.shape"
      ]
    },
    {
      "cell_type": "code",
      "execution_count": 48,
      "metadata": {
        "id": "FjG2fyzWXqxU"
      },
      "outputs": [],
      "source": [
        "def contrast(img, F):\n",
        "  # img: the numpy array of an image\n",
        "  # out: contrast adjusted image with factor F\n",
        "  img_prime = F * (img - 127.5) + 127.5\n",
        "  img_prime = np.maximum(0, img_prime)\n",
        "  img_prime = np.minimum(255, img_prime)\n",
        "  return img_prime.astype(np.uint8)"
      ]
    },
    {
      "cell_type": "markdown",
      "source": [
        "ทดสอบ function โดยการรันโค้ดข้างล่างนี้"
      ],
      "metadata": {
        "id": "PD_3Pe8m3kfm"
      }
    },
    {
      "cell_type": "code",
      "execution_count": null,
      "metadata": {
        "id": "RBntPCk6gW2y"
      },
      "outputs": [],
      "source": [
        "plt.imshow(contrast(img, 0.7), cmap='gray', vmin=0, vmax=255);"
      ]
    },
    {
      "cell_type": "code",
      "execution_count": null,
      "metadata": {
        "id": "8R4O1R_ah6yH"
      },
      "outputs": [],
      "source": [
        "plt.imshow(contrast(img, 0.3), cmap='gray', vmin=0, vmax=255);"
      ]
    },
    {
      "cell_type": "markdown",
      "metadata": {
        "id": "KtXmz3T1Xq4S"
      },
      "source": [
        "2. เขียนฟังก์ชัน `flip(img)` สำหรับพลิกรูป `img`จากซ้ายไปขวา"
      ]
    },
    {
      "cell_type": "code",
      "execution_count": 53,
      "metadata": {
        "id": "m0V7i0PVdwEW"
      },
      "outputs": [],
      "source": [
        "def flip(img):\n",
        "  # img: the numpy array of an image\n",
        "  # out: img flipped with respect to vertical axis\n",
        "  return img[:, ::-1]"
      ]
    },
    {
      "cell_type": "markdown",
      "source": [
        "ทดสอบ function โดยการรันโค้ดข้างล่างนี้"
      ],
      "metadata": {
        "id": "RRllft-43qJ3"
      }
    },
    {
      "cell_type": "code",
      "execution_count": null,
      "metadata": {
        "id": "AMVNnn-Fi63r"
      },
      "outputs": [],
      "source": [
        "plt.imshow(flip(img), cmap='gray', vmin=0, vmax=255);"
      ]
    },
    {
      "cell_type": "markdown",
      "metadata": {
        "id": "3ov9FLdHifVO"
      },
      "source": [
        "3. เขียนฟังก์ชัน `rotate(img)` สำหรับการหมุน `img` ทวนเข็มไป 90 องศา"
      ]
    },
    {
      "cell_type": "code",
      "execution_count": 55,
      "metadata": {
        "id": "FQcyEOtUjFpk"
      },
      "outputs": [],
      "source": [
        "def rotate(img):\n",
        "  # img: the numpy array of an image\n",
        "  # out: img rotated 90 degree counterclockwisely\n",
        "  return np.rot90(img)"
      ]
    },
    {
      "cell_type": "markdown",
      "source": [
        "ทดสอบ function โดยการรันโค้ดข้างล่างนี้"
      ],
      "metadata": {
        "id": "vb1KGLVX3sQG"
      }
    },
    {
      "cell_type": "code",
      "execution_count": null,
      "metadata": {
        "id": "-bV1rz92i9K0"
      },
      "outputs": [],
      "source": [
        "plt.imshow(rotate(img), cmap='gray', vmin=0, vmax=255);"
      ]
    }
  ],
  "metadata": {
    "colab": {
      "provenance": [],
      "include_colab_link": true
    },
    "kernelspec": {
      "display_name": "Python 3 (ipykernel)",
      "language": "python",
      "name": "python3"
    },
    "language_info": {
      "codemirror_mode": {
        "name": "ipython",
        "version": 3
      },
      "file_extension": ".py",
      "mimetype": "text/x-python",
      "name": "python",
      "nbconvert_exporter": "python",
      "pygments_lexer": "ipython3",
      "version": "3.10.12"
    }
  },
  "nbformat": 4,
  "nbformat_minor": 0
}